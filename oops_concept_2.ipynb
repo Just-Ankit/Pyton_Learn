{
 "cells": [
  {
   "cell_type": "code",
   "execution_count": 27,
   "metadata": {},
   "outputs": [
    {
     "name": "stdout",
     "output_type": "stream",
     "text": [
      "Name =  Ankit Kumar\n",
      "Percentage=  80\n",
      "Name =  Ankit Kumar\n",
      "Percentage=  80\n",
      "Student is passed\n",
      "Hey! Welcome To School\n"
     ]
    }
   ],
   "source": [
    "# SELF PARAMETER : \n",
    "class Students:\n",
    "    passingPercentage = 40 \n",
    "   \n",
    "    # Instance Method\n",
    "    \n",
    "    def studentDetails(self):\n",
    "        self.name = \"Ankit Kumar\"\n",
    "        self.percentage = 80\n",
    "        print(\"Name = \", self.name)\n",
    "        print(\"Percentage= \", self.percentage)\n",
    "        pass\n",
    "    def isPassed(self):\n",
    "        if self.percentage > Students.passingPercentage:\n",
    "            print(\"Student is passed\")\n",
    "        else:\n",
    "            print(\"Student is not passed\")\n",
    "   \n",
    "    # Static Method\n",
    "    \n",
    "    @staticmethod #decorator [Stactic method is also called class method]\n",
    "    # \"@staticmethod is decorator used to stop passing self attribute to function\"\n",
    "    # You don't need to pass the \"self\" attribute\n",
    "    def welcomeToSchool():\n",
    "        print(\"Hey! Welcome To School\")\n",
    "    \n",
    "st1 = Students()\n",
    "st1.studentDetails() #(1)\n",
    "Students.studentDetails(st1) #(2)\n",
    "st1.isPassed()\n",
    "st1.welcomeToSchool()\n",
    "# class_name.fuction(object_name)\n",
    "# (1) & (2) are interpreted same by python"
   ]
  },
  {
   "cell_type": "code",
   "execution_count": 28,
   "metadata": {},
   "outputs": [],
   "source": [
    "# Init method = Syntax : __init__\n",
    "class Student:\n",
    "    def __init__(self, name, rollNumber):\n",
    "        self.name = name\n",
    "        self.rollNumber = rollNumber"
   ]
  },
  {
   "cell_type": "code",
   "execution_count": 29,
   "metadata": {},
   "outputs": [],
   "source": [
    "s3 = Student(\"Ashish\",14)"
   ]
  },
  {
   "cell_type": "code",
   "execution_count": 30,
   "metadata": {},
   "outputs": [
    {
     "data": {
      "text/plain": [
       "{'name': 'Ashish', 'rollNumber': 14}"
      ]
     },
     "execution_count": 30,
     "metadata": {},
     "output_type": "execute_result"
    }
   ],
   "source": [
    "s3.__dict__"
   ]
  },
  {
   "cell_type": "code",
   "execution_count": 31,
   "metadata": {},
   "outputs": [
    {
     "data": {
      "text/plain": [
       "(<__main__.Student at 0x153a1285fd0>,\n",
       " <__main__.Student at 0x153a1285f70>,\n",
       " <__main__.Student at 0x153a03ec910>)"
      ]
     },
     "execution_count": 31,
     "metadata": {},
     "output_type": "execute_result"
    }
   ],
   "source": [
    "s1 = Student(\"Ankit Kumar\",43)\n",
    "s2 = Student(\"abcdefghijk\",26)\n",
    "s1,s2,s3"
   ]
  },
  {
   "cell_type": "code",
   "execution_count": 33,
   "metadata": {},
   "outputs": [
    {
     "data": {
      "text/plain": [
       "{'name': 'Ankit Kumar', 'rollNumber': 43}"
      ]
     },
     "execution_count": 33,
     "metadata": {},
     "output_type": "execute_result"
    }
   ],
   "source": [
    "s1.__dict__"
   ]
  },
  {
   "cell_type": "code",
   "execution_count": 35,
   "metadata": {},
   "outputs": [
    {
     "data": {
      "text/plain": [
       "{'name': 'abcdefghijk', 'rollNumber': 26}"
      ]
     },
     "execution_count": 35,
     "metadata": {},
     "output_type": "execute_result"
    }
   ],
   "source": [
    "s2.__dict__"
   ]
  },
  {
   "cell_type": "code",
   "execution_count": 36,
   "metadata": {},
   "outputs": [
    {
     "data": {
      "text/plain": [
       "{'name': 'Ashish', 'rollNumber': 14}"
      ]
     },
     "execution_count": 36,
     "metadata": {},
     "output_type": "execute_result"
    }
   ],
   "source": [
    "s3.__dict__"
   ]
  }
 ],
 "metadata": {
  "kernelspec": {
   "display_name": "Python 3",
   "language": "python",
   "name": "python3"
  },
  "language_info": {
   "codemirror_mode": {
    "name": "ipython",
    "version": 3
   },
   "file_extension": ".py",
   "mimetype": "text/x-python",
   "name": "python",
   "nbconvert_exporter": "python",
   "pygments_lexer": "ipython3",
   "version": "3.8.5"
  }
 },
 "nbformat": 4,
 "nbformat_minor": 4
}
