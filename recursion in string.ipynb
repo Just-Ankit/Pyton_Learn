{
 "cells": [
  {
   "cell_type": "code",
   "execution_count": 339,
   "metadata": {},
   "outputs": [],
   "source": [
    "def replaceChar(s,a,b):\n",
    "    if len(s)==0:\n",
    "        return s\n",
    "    smallOutput = replaceChar(s[1:],a,b) #s[1:] is known as slicing of list or array\n",
    "    if s[0]==a:\n",
    "        return b + smallOutput\n",
    "    else:\n",
    "         return s[0] + smallOutput"
   ]
  },
  {
   "cell_type": "code",
   "execution_count": 340,
   "metadata": {},
   "outputs": [],
   "source": [
    "def remove(s,b):\n",
    "    if len(s)== 0: \n",
    "        return s\n",
    "    smallOutput = remove(s[1:],b)\n",
    "    if s[0]==b:\n",
    "        return smallOutput\n",
    "    else:\n",
    "        return s[0] + smallOutput"
   ]
  },
  {
   "cell_type": "code",
   "execution_count": 341,
   "metadata": {},
   "outputs": [
    {
     "name": "stdout",
     "output_type": "stream",
     "text": [
      "bduekshcbbuekxbhejbbbbbiebbb\n",
      "ankit kumar\n"
     ]
    }
   ],
   "source": [
    "print(replaceChar('aduekshcbauekxahejabbaaieaaa','a','b'))\n",
    "print(remove('ankibt kumbar','b'))"
   ]
  },
  {
   "cell_type": "code",
   "execution_count": 342,
   "metadata": {},
   "outputs": [],
   "source": [
    "def replaceStr(s):\n",
    "    if len(s) == 0 or len(s)==1:\n",
    "        return s\n",
    "    if s[0]== 'p' and s[1]== 'i':\n",
    "        smallOutput = replaceStr(s[2:])\n",
    "        return '3.14' + smallOutput\n",
    "    else:\n",
    "        smallOutput = replaceStr(s[1:])\n",
    "        return s[0] + smallOutput"
   ]
  },
  {
   "cell_type": "code",
   "execution_count": 343,
   "metadata": {},
   "outputs": [
    {
     "name": "stdout",
     "output_type": "stream",
     "text": [
      "value = 3.14\n"
     ]
    }
   ],
   "source": [
    "print(replaceStr('value = pi'))"
   ]
  },
  {
   "cell_type": "code",
   "execution_count": 344,
   "metadata": {},
   "outputs": [],
   "source": [
    "def RemoveDuplicates(s):\n",
    "    if len(s)==0 or len(s)==1:\n",
    "        return s\n",
    "    if s[0] == s[1]:\n",
    "        smallOutput = RemoveDuplicates(s[1:])\n",
    "        return smallOutput\n",
    "    else:\n",
    "        smallOutput = RemoveDuplicates(s[1:])\n",
    "        return s[0] + smallOutput"
   ]
  },
  {
   "cell_type": "code",
   "execution_count": 345,
   "metadata": {},
   "outputs": [
    {
     "name": "stdout",
     "output_type": "stream",
     "text": [
      "NICE I HAVE DONE\n"
     ]
    }
   ],
   "source": [
    "print(RemoveDuplicates('NICEEEEE IIIII HAVEEEEE DOOOOONNNNNNE'))"
   ]
  },
  {
   "cell_type": "code",
   "execution_count": 346,
   "metadata": {},
   "outputs": [],
   "source": [
    "# Binary Search \n",
    "# Conditions:-\n",
    "# list must be sorted\n",
    "# Procedure :\n",
    "# dividing the array into two half continously until we\n",
    "# get search the number \n",
    "# so we need a list, start_index(si) and end_index(ei).\n",
    "# here we have to return index of no."
   ]
  },
  {
   "cell_type": "code",
   "execution_count": 347,
   "metadata": {},
   "outputs": [],
   "source": [
    "def BinarySearch(a,x,si,ei):   #here a is list and x is to be searched\n",
    "    if si > ei:\n",
    "        return -1\n",
    "    mid = (si + ei)//2\n",
    "    if a[mid]== x:\n",
    "        return mid\n",
    "    elif a[mid] >  x:\n",
    "        return BinarySearch(a,x,si,mid-1)\n",
    "    else :\n",
    "        return BinarySearch(a,x,mid-1,ei)   "
   ]
  },
  {
   "cell_type": "code",
   "execution_count": 348,
   "metadata": {},
   "outputs": [
    {
     "data": {
      "text/plain": [
       "5"
      ]
     },
     "execution_count": 348,
     "metadata": {},
     "output_type": "execute_result"
    }
   ],
   "source": [
    "a = [1,2,3,4,5,6,12,43,54,63,69]\n",
    "BinarySearch(a,6,0,len(a)-1)"
   ]
  },
  {
   "cell_type": "code",
   "execution_count": 353,
   "metadata": {},
   "outputs": [],
   "source": [
    "# merge sort \n",
    "# base case -> l==0 or l==1\n",
    "            #  return\n",
    "# Induction hyposthesis - just divide array into two \n",
    "    # then sort those two array and then combine "
   ]
  },
  {
   "cell_type": "code",
   "execution_count": 354,
   "metadata": {},
   "outputs": [
    {
     "name": "stdout",
     "output_type": "stream",
     "text": [
      "Given array is\n",
      "12 11 13 5 6 7 \n",
      "Sorted array is: \n",
      "5 6 7 11 12 13 \n"
     ]
    }
   ],
   "source": [
    "# Python program for implementation of MergeSort\n",
    "def mergeSort(arr):\n",
    "    if len(arr) > 1:\n",
    " \n",
    "         # Finding the mid of the array\n",
    "        mid = len(arr)//2\n",
    " \n",
    "        # Dividing the array elements\n",
    "        L = arr[:mid]\n",
    " \n",
    "        # into 2 halves\n",
    "        R = arr[mid:]\n",
    " \n",
    "        # Sorting the first half\n",
    "        mergeSort(L)\n",
    " \n",
    "        # Sorting the second half\n",
    "        mergeSort(R)\n",
    " \n",
    "        i = j = k = 0\n",
    " \n",
    "        # Copy data to temp arrays L[] and R[]\n",
    "        while i < len(L) and j < len(R):\n",
    "            if L[i] < R[j]:\n",
    "                arr[k] = L[i]\n",
    "                i += 1\n",
    "            else:\n",
    "                arr[k] = R[j]\n",
    "                j += 1\n",
    "            k += 1\n",
    " \n",
    "        # Checking if any element was left\n",
    "        while i < len(L):\n",
    "            arr[k] = L[i]\n",
    "            i += 1\n",
    "            k += 1\n",
    " \n",
    "        while j < len(R):\n",
    "            arr[k] = R[j]\n",
    "            j += 1\n",
    "            k += 1\n",
    " \n",
    "# Code to print the list\n",
    " \n",
    " \n",
    "def printList(arr):\n",
    "    for i in range(len(arr)):\n",
    "        print(arr[i], end=\" \")\n",
    "    print()\n",
    " \n",
    " \n",
    "# Driver Code\n",
    "if __name__ == '__main__':\n",
    "    arr = [12, 11, 13, 5, 6, 7]\n",
    "    print(\"Given array is\", end=\"\\n\")\n",
    "    printList(arr)\n",
    "    mergeSort(arr)\n",
    "    print(\"Sorted array is: \", end=\"\\n\")\n",
    "    printList(arr)"
   ]
  },
  {
   "cell_type": "code",
   "execution_count": null,
   "metadata": {},
   "outputs": [],
   "source": []
  }
 ],
 "metadata": {
  "kernelspec": {
   "display_name": "Python 3",
   "language": "python",
   "name": "python3"
  },
  "language_info": {
   "codemirror_mode": {
    "name": "ipython",
    "version": 3
   },
   "file_extension": ".py",
   "mimetype": "text/x-python",
   "name": "python",
   "nbconvert_exporter": "python",
   "pygments_lexer": "ipython3",
   "version": "3.8.5"
  }
 },
 "nbformat": 4,
 "nbformat_minor": 4
}
