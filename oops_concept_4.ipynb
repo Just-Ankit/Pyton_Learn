{
 "cells": [
  {
   "cell_type": "code",
   "execution_count": 4,
   "metadata": {},
   "outputs": [],
   "source": [
    "# INHERITANCE \n",
    "# Inherit speciality form differnet function\n",
    "# shape(color , filled)\n",
    "# rectangle(color, filled, width, length)\n",
    "# circle(color, filled, radius)\n",
    "# triangle(color, filled, base, height)\n",
    "# Here \"color\" and \"filled\" is common which means it is inherited from \n",
    "#  Function = \"SHAPE\""
   ]
  },
  {
   "cell_type": "code",
   "execution_count": null,
   "metadata": {},
   "outputs": [],
   "source": []
  }
 ],
 "metadata": {
  "kernelspec": {
   "display_name": "Python 3",
   "language": "python",
   "name": "python3"
  },
  "language_info": {
   "codemirror_mode": {
    "name": "ipython",
    "version": 3
   },
   "file_extension": ".py",
   "mimetype": "text/x-python",
   "name": "python",
   "nbconvert_exporter": "python",
   "pygments_lexer": "ipython3",
   "version": "3.8.5"
  }
 },
 "nbformat": 4,
 "nbformat_minor": 4
}
