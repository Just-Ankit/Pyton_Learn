{
 "cells": [
  {
   "cell_type": "code",
   "execution_count": 9,
   "metadata": {},
   "outputs": [
    {
     "name": "stdout",
     "output_type": "stream",
     "text": [
      "<bound method Student.studentDetails of <__main__.Student object at 0x000001BB891496D0>>\n",
      "<bound method Student.studentDetails of <__main__.Student object at 0x000001BB891496D0>>\n"
     ]
    }
   ],
   "source": [
    "# Class Methods : @classmethod = used for class function\n",
    "#                 def method_name(class,___,___) but first have to be class\n",
    "# factory methods : means returning the object of class from that function\n",
    "\n",
    "\n",
    "class Student:\n",
    "    passingPercentage = 40\n",
    "    \n",
    "    def __init__(self,name,age,percentage):\n",
    "        self.name = name\n",
    "        self.age = age\n",
    "        self.percentage = percentage\n",
    "#     @classmethod\n",
    "#     def fromBirthYear(cls,name,year,percentage):\n",
    "#         return cls(name,date.today().year - year,percentage)\n",
    "    def studentDetails(self):\n",
    "        print(\"Name = \", self.name)\n",
    "        print(\"Age = \", self.age)\n",
    "        print(\"Percentage = \", self.percentage)\n",
    "        pass\n",
    "    def isPassed(self):\n",
    "        if self.percentage > Student.passingPercentage:\n",
    "            print(\"Student is passed\")\n",
    "        else :\n",
    "            print(\"Student is not passed\")\n",
    "    @staticmethod\n",
    "    def welcomeToSchool():\n",
    "        print(\"Hey! Welcome To School\")\n",
    "    @staticmethod\n",
    "    def isTeen(age):\n",
    "        return age>16\n",
    "\n",
    "s1 = Student(\"Ankit Kumar\", 2000, 84)\n",
    "s2 = Student(\"Ashish Kumar\", 2000, 83)\n",
    "print(s1.studentDetails)\n",
    "print(s1.studentDetails)"
   ]
  },
  {
   "cell_type": "code",
   "execution_count": 1,
   "metadata": {},
   "outputs": [],
   "source": [
    "# class method not understood yet \n",
    "# I'll try to understand in my TNP classes"
   ]
  },
  {
   "cell_type": "code",
   "execution_count": null,
   "metadata": {},
   "outputs": [],
   "source": [
    "# Public and Private Modifiers\n",
    "# Public modifier means that you can access the variables outside the function \n",
    "# Private modifier means that you cannnot access the variable outside the fuction \n",
    "#   which means that variable can only access within the function\n",
    "# Syntax for Private modifier is \"__variable\" means two underscores\n",
    "\n",
    "#  Like in the above class Student:\n",
    "#                 self.__name = name"
   ]
  }
 ],
 "metadata": {
  "kernelspec": {
   "display_name": "Python 3",
   "language": "python",
   "name": "python3"
  },
  "language_info": {
   "codemirror_mode": {
    "name": "ipython",
    "version": 3
   },
   "file_extension": ".py",
   "mimetype": "text/x-python",
   "name": "python",
   "nbconvert_exporter": "python",
   "pygments_lexer": "ipython3",
   "version": "3.8.5"
  }
 },
 "nbformat": 4,
 "nbformat_minor": 4
}
