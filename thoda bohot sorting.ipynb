{
 "cells": [
  {
   "cell_type": "code",
   "execution_count": 191,
   "metadata": {},
   "outputs": [],
   "source": [
    "# Quick sort \n",
    "# Works on pivoted point \n",
    "# And it's is like a divide and conquer\n",
    "# So here we have to take \"Start index\"(si) and \"End index\"(ei) "
   ]
  },
  {
   "cell_type": "code",
   "execution_count": 192,
   "metadata": {},
   "outputs": [],
   "source": [
    "def partition(a,si,ei):\n",
    "    pivot = a[si]\n",
    "    # find number of element smaller than pivot\n",
    "    # also we have to maintain count 'c'\n",
    "    c = 0\n",
    "    for i in range(si,ei+1):\n",
    "        if a[i]< pivot:\n",
    "            c = c + 1\n",
    "        a[si + c] ,a[si] = a[si] , a[si + c] # swiping pivot point to the count\n",
    "        pivot_index = si + c\n",
    "        \n",
    "        i = si\n",
    "        j = ei \n",
    "        while i < j:\n",
    "            if a[i] < pivot:\n",
    "                i = i + 1\n",
    "            elif a[j] >= pivot:\n",
    "                j = j - 1\n",
    "            else:\n",
    "                a[i],a[j] = a[j],a[i]\n",
    "                i = i + 1\n",
    "                j = j - 1\n",
    "        return pivot_index"
   ]
  },
  {
   "cell_type": "code",
   "execution_count": 193,
   "metadata": {},
   "outputs": [],
   "source": [
    "def QuickSort(a,si,ei):\n",
    "    if si >= ei:\n",
    "        return \n",
    "    \n",
    "    pivot_index = partition(a,si,ei)\n",
    "    QuickSort(a, si, pivot_index -1)\n",
    "    QuickSort(a,pivot_index + 1, ei)"
   ]
  },
  {
   "cell_type": "code",
   "execution_count": 194,
   "metadata": {},
   "outputs": [
    {
     "name": "stdout",
     "output_type": "stream",
     "text": [
      "0\n"
     ]
    },
    {
     "data": {
      "text/plain": [
       "[1, 2, 3, 4, 5, 6, 7, 8, 9, 10]"
      ]
     },
     "execution_count": 194,
     "metadata": {},
     "output_type": "execute_result"
    }
   ],
   "source": [
    "a = [6,10,9,8,7,1,3,5,4,2]\n",
    "print(partition(a,0,len(a)-1))\n",
    "QuickSort(a,0,len(a)-1)\n",
    "a"
   ]
  },
  {
   "cell_type": "code",
   "execution_count": 195,
   "metadata": {},
   "outputs": [],
   "source": [
    "# tower of hanoi\n",
    "# 's' = source = 'a'\n",
    "# 'h' = helper = 'b'\n",
    "# 'd' = destination = 'c'\n",
    "\n",
    "def tower_hanoi(n,a,b,c):\n",
    "    if n == 1:\n",
    "        print(\"move 1st disk from \", a, \" to\", c)\n",
    "        return\n",
    "    tower_hanoi(n-1,a,c,b)\n",
    "    print(\"move\",n, \"th disk form\", a, \" to\", c)\n",
    "    tower_hanoi(n-1,b,a,c)"
   ]
  },
  {
   "cell_type": "code",
   "execution_count": 196,
   "metadata": {},
   "outputs": [
    {
     "name": "stdout",
     "output_type": "stream",
     "text": [
      "move 1st disk from  s  to d\n"
     ]
    }
   ],
   "source": [
    "tower_hanoi(1,'s','h',\"d\")"
   ]
  }
 ],
 "metadata": {
  "kernelspec": {
   "display_name": "Python 3",
   "language": "python",
   "name": "python3"
  },
  "language_info": {
   "codemirror_mode": {
    "name": "ipython",
    "version": 3
   },
   "file_extension": ".py",
   "mimetype": "text/x-python",
   "name": "python",
   "nbconvert_exporter": "python",
   "pygments_lexer": "ipython3",
   "version": "3.8.5"
  }
 },
 "nbformat": 4,
 "nbformat_minor": 4
}
